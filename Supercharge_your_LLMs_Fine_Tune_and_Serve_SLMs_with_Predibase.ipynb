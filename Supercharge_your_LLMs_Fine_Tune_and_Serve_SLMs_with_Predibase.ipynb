{
  "nbformat": 4,
  "nbformat_minor": 0,
  "metadata": {
    "colab": {
      "provenance": [],
      "include_colab_link": true
    },
    "kernelspec": {
      "name": "python3",
      "display_name": "Python 3"
    },
    "language_info": {
      "name": "python"
    }
  },
  "cells": [
    {
      "cell_type": "markdown",
      "metadata": {
        "id": "view-in-github",
        "colab_type": "text"
      },
      "source": [
        "<a href=\"https://colab.research.google.com/github/vmoregen/AI_MLTraining/blob/main/Supercharge_your_LLMs_Fine_Tune_and_Serve_SLMs_with_Predibase.ipynb\" target=\"_parent\"><img src=\"https://colab.research.google.com/assets/colab-badge.svg\" alt=\"Open In Colab\"/></a>"
      ]
    },
    {
      "cell_type": "markdown",
      "source": [
        "# Introduction\n",
        "\n",
        "In this tutorial, we provide a detailed walkthrough of fine-tuning and serving Llama 3.1 8B Instruct model with the [CoNLLpp dataset](https://huggingface.co/datasets/predibase/conllpp) for a Name Entity Recognition (NER) use case using Predibase’s efficient fine-tuning stack. You'll learn how to:\n",
        "\n",
        "1.   Fine-tune task-specific models that are on par with commercial LLMs such as GPT-4\n",
        "2.   Dynamically serve multiple fine-tuned adapters on a single GPU with LoRA eXchange\n",
        "3.   Supercharge inference speed using Turbo LoRA, Predibase's proprietary optimization for 3x faster and more cost-effective model serving\n",
        "4.   Other serving optimizations available on Predibase's next-gen inference engine\n",
        "\n",
        "\n",
        "\n",
        "\n"
      ],
      "metadata": {
        "id": "auUVnYJLEVsM"
      }
    },
    {
      "cell_type": "markdown",
      "source": [
        "# Install Predibase SDK"
      ],
      "metadata": {
        "id": "-LVwV-BQ3EYc"
      }
    },
    {
      "cell_type": "code",
      "execution_count": null,
      "metadata": {
        "colab": {
          "base_uri": "https://localhost:8080/"
        },
        "collapsed": true,
        "id": "vD3UwfCa2-K_",
        "outputId": "d4084d8a-8296-4e49-d2f4-dffa9b9a82cb"
      },
      "outputs": [
        {
          "output_type": "stream",
          "name": "stdout",
          "text": [
            "\u001b[33mWARNING: typer 0.15.1 does not provide the extra 'all'\u001b[0m\u001b[33m\n",
            "\u001b[0m"
          ]
        }
      ],
      "source": [
        "!pip install -U predibase --quiet"
      ]
    },
    {
      "cell_type": "markdown",
      "source": [
        "# Sign into Predibase SDK"
      ],
      "metadata": {
        "id": "Uho172yL3PdT"
      }
    },
    {
      "cell_type": "code",
      "source": [
        "from predibase import Predibase, FinetuningConfig, DeploymentConfig\n",
        "from lorax.client import Client\n",
        "\n",
        "from collections import Counter\n",
        "from google.colab import userdata\n",
        "import json\n",
        "import matplotlib.pyplot as plt\n",
        "import pandas as pd\n",
        "import time\n",
        "\n",
        "# Initialize Client\n",
        "pb = Predibase(api_token=\"YOUR_PREDIBASE_API_TOKEN\")"
      ],
      "metadata": {
        "colab": {
          "base_uri": "https://localhost:8080/",
          "height": 34
        },
        "collapsed": true,
        "id": "d1zzLBjU3CiP",
        "outputId": "808edf08-7efa-4cb4-fa80-06d5674176ce"
      },
      "execution_count": null,
      "outputs": [
        {
          "output_type": "display_data",
          "data": {
            "text/plain": [
              "\u001b[1;34mConnected to Predibase as \u001b[0m\u001b[1;35mUser\u001b[0m\u001b[1;34m(\u001b[0m\u001b[1;33mid\u001b[0m\u001b[1;34m=\u001b[0m\u001b[93m4f455880\u001b[0m\u001b[93m-6c7b-41b7-a0eb-29cb1dab9d77\u001b[0m\u001b[1;34m, \u001b[0m\u001b[1;33musername\u001b[0m\u001b[1;34m=\u001b[0m\u001b[1;35mchloe\u001b[0m\u001b[1;34m@predibase.com\u001b[0m\u001b[1;34m)\u001b[0m\n"
            ],
            "text/html": [
              "<pre style=\"white-space:pre;overflow-x:auto;line-height:normal;font-family:Menlo,'DejaVu Sans Mono',consolas,'Courier New',monospace\"><span style=\"color: #000080; text-decoration-color: #000080; font-weight: bold\">Connected to Predibase as </span><span style=\"color: #800080; text-decoration-color: #800080; font-weight: bold\">User</span><span style=\"color: #000080; text-decoration-color: #000080; font-weight: bold\">(</span><span style=\"color: #808000; text-decoration-color: #808000; font-weight: bold\">id</span><span style=\"color: #000080; text-decoration-color: #000080; font-weight: bold\">=</span><span style=\"color: #ffff00; text-decoration-color: #ffff00\">4f455880</span><span style=\"color: #ffff00; text-decoration-color: #ffff00\">-6c7b-41b7-a0eb-29cb1dab9d77</span><span style=\"color: #000080; text-decoration-color: #000080; font-weight: bold\">, </span><span style=\"color: #808000; text-decoration-color: #808000; font-weight: bold\">username</span><span style=\"color: #000080; text-decoration-color: #000080; font-weight: bold\">=</span><span style=\"color: #800080; text-decoration-color: #800080; font-weight: bold\">chloe</span><span style=\"color: #000080; text-decoration-color: #000080; font-weight: bold\">@predibase.com)</span>\n",
              "</pre>\n"
            ]
          },
          "metadata": {}
        }
      ]
    },
    {
      "cell_type": "markdown",
      "source": [
        "# Upload datasets used for training to Predibase"
      ],
      "metadata": {
        "id": "wR1BD-qD40iW"
      }
    },
    {
      "cell_type": "markdown",
      "source": [
        "You can download the conllp dataset and its variants here: [conllpp_demo_datasets](https://drive.google.com/drive/folders/14RJEv5RhiIfibUoS3nNO-sUMQdt5CKDF?usp=drive_link).\n",
        "\n",
        "For instruction fine-tuning, Predibase requires the dataset to have prompt and completion pairs. The provided datasets are already formatted. Please check out [Predibase's documentation](https://docs.predibase.com/user-guide/fine-tuning/prepare-data) for how to preprocess your datasets used for fine-tuning.\n",
        "\n"
      ],
      "metadata": {
        "id": "Dg9bF6X9y6VO"
      }
    },
    {
      "cell_type": "code",
      "source": [
        "!ls /content"
      ],
      "metadata": {
        "colab": {
          "base_uri": "https://localhost:8080/"
        },
        "id": "R6t3qJKjyZjj",
        "outputId": "935a463b-337a-43cd-d5d5-366b4332b7f0"
      },
      "execution_count": null,
      "outputs": [
        {
          "output_type": "stream",
          "name": "stdout",
          "text": [
            "conllpp_demo.csv\t   conllpp_demo_organization.csv  sample_data\n",
            "conllpp_demo_location.csv  conllpp_demo_person.csv\n"
          ]
        }
      ]
    },
    {
      "cell_type": "code",
      "source": [
        "df = pd.read_csv(\"/content/conllpp_demo.csv\")"
      ],
      "metadata": {
        "id": "LH1FEE3XzFIz"
      },
      "execution_count": null,
      "outputs": []
    },
    {
      "cell_type": "code",
      "source": [
        "# Print example prompt and completion pair\n",
        "print(\"Prompt: \", df.iloc[8]['prompt'])\n",
        "print(\"----------------------------------\")\n",
        "print(\"Completion: \", df.iloc[8]['completion'])"
      ],
      "metadata": {
        "colab": {
          "base_uri": "https://localhost:8080/"
        },
        "id": "SLAWuAofzFF8",
        "outputId": "791ace6c-e6e4-4d84-b152-6acaad76c393"
      },
      "execution_count": null,
      "outputs": [
        {
          "output_type": "stream",
          "name": "stdout",
          "text": [
            "Prompt:  Your task is a Named Entity Recognition (NER) task. Predict the category of\n",
            "each entity, then place the entity into the list associated with the \n",
            "category in an output JSON payload. Below is an example:\n",
            "\n",
            "Input: EU rejects German call to boycott British lamb . Output: {\"person\":\n",
            "[], \"organization\": [\"EU\"], \"location\": [], \"miscellaneous\": [\"German\",\n",
            "\"British\"]}\n",
            "\n",
            "Now, complete the task.\n",
            "\n",
            "Input: Fischler proposed EU-wide measures after reports from Britain and France that under laboratory conditions sheep could contract Bovine Spongiform Encephalopathy ( BSE ) -- mad cow disease . Output:  \n",
            "----------------------------------\n",
            "Completion:  {\"person\": [\"Fischler\"], \"organization\": [], \"location\": [\"Britain\", \"France\"], \"miscellaneous\": [\"EU-wide\", \"Bovine Spongiform Encephalopathy\", \"BSE\"]}\n"
          ]
        }
      ]
    },
    {
      "cell_type": "code",
      "source": [
        "# Upload dataset to Predibase\n",
        "pb.datasets.from_file(\"/content/conllpp_demo.csv\", name=\"conllpp_test\")"
      ],
      "metadata": {
        "colab": {
          "base_uri": "https://localhost:8080/"
        },
        "id": "eQQcDw8fzFCm",
        "outputId": "017c3803-e3c6-486d-ed06-def364087c18"
      },
      "execution_count": null,
      "outputs": [
        {
          "output_type": "execute_result",
          "data": {
            "text/plain": [
              "Dataset(uuid='0284a432-4d1f-4ab8-87e1-44958882e495', name='conllpp_test', connection_type='file', connection_name='file_uploads', status='connected')"
            ]
          },
          "metadata": {},
          "execution_count": 98
        }
      ]
    },
    {
      "cell_type": "code",
      "source": [
        "# Use a sample of 50 rows from the dataset (for demo purposes). Normally, we'd use a much larger sample size to account for variance.\n",
        "df_sample = df.sample(n=50, random_state=42)"
      ],
      "metadata": {
        "id": "d-Nid9CkKstC"
      },
      "execution_count": null,
      "outputs": []
    },
    {
      "cell_type": "markdown",
      "source": [
        "# Fine-tuning"
      ],
      "metadata": {
        "id": "H-KP1e2d87Cd"
      }
    },
    {
      "cell_type": "markdown",
      "source": [
        "Predibase made fine-tuning super easy but also flexible for advanced users to configure different settings.\n",
        "\n",
        "With the Predibase fine-tuning stack, fine-tuning is just a few lines of code, or not a single line of code using the UI.\n",
        "\n",
        "\n"
      ],
      "metadata": {
        "id": "_a9YWk5OIbT8"
      }
    },
    {
      "cell_type": "code",
      "source": [
        "# Create a repo for fine-tuning experiments\n",
        "pb.repos.create(name=\"conllpp-demo-copy3\", description=\"conllpp fine-tuning experiments repo\", exists_ok=True)"
      ],
      "metadata": {
        "id": "2e16pnLu8mt1",
        "colab": {
          "base_uri": "https://localhost:8080/"
        },
        "outputId": "374212db-d225-426c-bb7c-87e9220fdaa6"
      },
      "execution_count": null,
      "outputs": [
        {
          "output_type": "execute_result",
          "data": {
            "text/plain": [
              "Repo(uuid='99cafd69-a2cb-4f0f-8208-6ac7eaa8ea8b', name='conllpp-demo-copy3', description='conllpp fine-tuning experiments repo')"
            ]
          },
          "metadata": {},
          "execution_count": 23
        }
      ]
    },
    {
      "cell_type": "code",
      "source": [
        "# Start a lora fine-tuning job using defaults, you can also configure your fine-tuning jobs by customizing hyperparams in FinetuningConfig\n",
        "adapter = pb.adapters.create(\n",
        "   config=FinetuningConfig(\n",
        "       base_model=\"llama-3-1-8b-instruct\",\n",
        "       adapter=\"lora\", # default\n",
        "       epochs=3,\n",
        "       rank=16,\n",
        "       # target_modules=[\"q_proj\", \"v_proj\", \"k_proj\"],\n",
        "      #  apply_chat_template=False, # default: False\n",
        "   ),\n",
        "   dataset=\"conllpp_demo\",\n",
        "   repo=\"conllpp-demo\",\n",
        "   description=\"initial model with defaults\"\n",
        ")"
      ],
      "metadata": {
        "id": "ogQ43MsZ0BKR",
        "colab": {
          "base_uri": "https://localhost:8080/",
          "height": 527
        },
        "collapsed": true,
        "outputId": "136b4e7b-ea2c-46a8-a350-37fec0da4660"
      },
      "execution_count": null,
      "outputs": [
        {
          "output_type": "stream",
          "name": "stdout",
          "text": [
            "Successfully requested finetuning of llama-3-1-8b-instruct from base as `conllpp-demo/9`. (Job UUID: e82d08ee-4fa7-4988-85c3-97d019eb5a6b).\n",
            "\n",
            "Watching progress of finetuning job e82d08ee-4fa7-4988-85c3-97d019eb5a6b. This call will block until the job has finished. Canceling or terminating this call will NOT cancel or terminate the job itself.\n",
            "\n",
            "Job is queued for execution. Time in queue: 0:00:25"
          ]
        },
        {
          "output_type": "error",
          "ename": "KeyboardInterrupt",
          "evalue": "",
          "traceback": [
            "\u001b[0;31m---------------------------------------------------------------------------\u001b[0m",
            "\u001b[0;31mKeyboardInterrupt\u001b[0m                         Traceback (most recent call last)",
            "\u001b[0;32m<ipython-input-24-7eef01c9abb1>\u001b[0m in \u001b[0;36m<cell line: 2>\u001b[0;34m()\u001b[0m\n\u001b[1;32m      1\u001b[0m \u001b[0;31m# Start a lora fine-tuning job using defaults, you can also configure your fine-tuning jobs by customizing hyperparams in FinetuningConfig\u001b[0m\u001b[0;34m\u001b[0m\u001b[0;34m\u001b[0m\u001b[0m\n\u001b[0;32m----> 2\u001b[0;31m adapter = pb.adapters.create(\n\u001b[0m\u001b[1;32m      3\u001b[0m    config=FinetuningConfig(\n\u001b[1;32m      4\u001b[0m        \u001b[0mbase_model\u001b[0m\u001b[0;34m=\u001b[0m\u001b[0;34m\"llama-3-1-8b-instruct\"\u001b[0m\u001b[0;34m,\u001b[0m\u001b[0;34m\u001b[0m\u001b[0;34m\u001b[0m\u001b[0m\n\u001b[1;32m      5\u001b[0m        \u001b[0madapter\u001b[0m\u001b[0;34m=\u001b[0m\u001b[0;34m\"lora\"\u001b[0m\u001b[0;34m,\u001b[0m \u001b[0;31m# default\u001b[0m\u001b[0;34m\u001b[0m\u001b[0;34m\u001b[0m\u001b[0m\n",
            "\u001b[0;32m/usr/local/lib/python3.10/dist-packages/predibase/resources/adapters.py\u001b[0m in \u001b[0;36mcreate\u001b[0;34m(self, config, dataset, continue_from_version, repo, description, show_tensorboard)\u001b[0m\n\u001b[1;32m     41\u001b[0m \u001b[0;34m\u001b[0m\u001b[0m\n\u001b[1;32m     42\u001b[0m         \u001b[0;31m# Always blocking since `watch` hardcoded to True.\u001b[0m\u001b[0;34m\u001b[0m\u001b[0;34m\u001b[0m\u001b[0m\n\u001b[0;32m---> 43\u001b[0;31m         job = self._client.finetuning.jobs.create(\n\u001b[0m\u001b[1;32m     44\u001b[0m             \u001b[0mconfig\u001b[0m\u001b[0;34m=\u001b[0m\u001b[0mconfig\u001b[0m\u001b[0;34m,\u001b[0m\u001b[0;34m\u001b[0m\u001b[0;34m\u001b[0m\u001b[0m\n\u001b[1;32m     45\u001b[0m             \u001b[0mdataset\u001b[0m\u001b[0;34m=\u001b[0m\u001b[0mdataset\u001b[0m\u001b[0;34m,\u001b[0m\u001b[0;34m\u001b[0m\u001b[0;34m\u001b[0m\u001b[0m\n",
            "\u001b[0;32m/usr/local/lib/python3.10/dist-packages/predibase/resources/finetuning_jobs.py\u001b[0m in \u001b[0;36mcreate\u001b[0;34m(self, config, dataset, continue_from_version, repo, description, watch, show_tensorboard)\u001b[0m\n\u001b[1;32m     72\u001b[0m         )\n\u001b[1;32m     73\u001b[0m \u001b[0;34m\u001b[0m\u001b[0m\n\u001b[0;32m---> 74\u001b[0;31m         \u001b[0;32mreturn\u001b[0m \u001b[0mself\u001b[0m\u001b[0;34m.\u001b[0m\u001b[0mwatch\u001b[0m\u001b[0;34m(\u001b[0m\u001b[0mjob\u001b[0m\u001b[0;34m,\u001b[0m \u001b[0mshow_tensorboard\u001b[0m\u001b[0;34m)\u001b[0m \u001b[0;32mif\u001b[0m \u001b[0mwatch\u001b[0m \u001b[0;32melse\u001b[0m \u001b[0mjob\u001b[0m\u001b[0;34m\u001b[0m\u001b[0;34m\u001b[0m\u001b[0m\n\u001b[0m\u001b[1;32m     75\u001b[0m \u001b[0;34m\u001b[0m\u001b[0m\n\u001b[1;32m     76\u001b[0m     \u001b[0;32mdef\u001b[0m \u001b[0mwatch\u001b[0m\u001b[0;34m(\u001b[0m\u001b[0mself\u001b[0m\u001b[0;34m,\u001b[0m \u001b[0mjob_ref\u001b[0m\u001b[0;34m:\u001b[0m \u001b[0mstr\u001b[0m \u001b[0;34m|\u001b[0m \u001b[0mFinetuningJob\u001b[0m\u001b[0;34m,\u001b[0m \u001b[0mshow_tensorboard\u001b[0m\u001b[0;34m:\u001b[0m \u001b[0mbool\u001b[0m \u001b[0;34m=\u001b[0m \u001b[0;32mFalse\u001b[0m\u001b[0;34m)\u001b[0m \u001b[0;34m->\u001b[0m \u001b[0mFinetuningJob\u001b[0m\u001b[0;34m:\u001b[0m\u001b[0;34m\u001b[0m\u001b[0;34m\u001b[0m\u001b[0m\n",
            "\u001b[0;32m/usr/local/lib/python3.10/dist-packages/predibase/resources/finetuning_jobs.py\u001b[0m in \u001b[0;36mwatch\u001b[0;34m(self, job_ref, show_tensorboard)\u001b[0m\n\u001b[1;32m     89\u001b[0m         \u001b[0;32mwhile\u001b[0m \u001b[0;32mTrue\u001b[0m\u001b[0;34m:\u001b[0m\u001b[0;34m\u001b[0m\u001b[0;34m\u001b[0m\u001b[0m\n\u001b[1;32m     90\u001b[0m             \u001b[0;32mtry\u001b[0m\u001b[0;34m:\u001b[0m\u001b[0;34m\u001b[0m\u001b[0;34m\u001b[0m\u001b[0m\n\u001b[0;32m---> 91\u001b[0;31m                 \u001b[0mjob_resp\u001b[0m \u001b[0;34m=\u001b[0m \u001b[0mself\u001b[0m\u001b[0;34m.\u001b[0m\u001b[0m_client\u001b[0m\u001b[0;34m.\u001b[0m\u001b[0mhttp_get\u001b[0m\u001b[0;34m(\u001b[0m\u001b[0;34mf\"/v2/finetuning/jobs/{job_ref}\"\u001b[0m\u001b[0;34m)\u001b[0m\u001b[0;34m\u001b[0m\u001b[0;34m\u001b[0m\u001b[0m\n\u001b[0m\u001b[1;32m     92\u001b[0m                 \u001b[0mjob\u001b[0m \u001b[0;34m=\u001b[0m \u001b[0mFinetuningJob\u001b[0m\u001b[0;34m.\u001b[0m\u001b[0mmodel_validate\u001b[0m\u001b[0;34m(\u001b[0m\u001b[0mjob_resp\u001b[0m\u001b[0;34m)\u001b[0m\u001b[0;34m\u001b[0m\u001b[0;34m\u001b[0m\u001b[0m\n\u001b[1;32m     93\u001b[0m \u001b[0;34m\u001b[0m\u001b[0m\n",
            "\u001b[0;32m/usr/local/lib/python3.10/dist-packages/predibase/_client.py\u001b[0m in \u001b[0;36mhttp_get\u001b[0;34m(self, endpoint, params, **kwargs)\u001b[0m\n\u001b[1;32m    145\u001b[0m             \u001b[0;32mreturn\u001b[0m \u001b[0mself\u001b[0m\u001b[0;34m.\u001b[0m\u001b[0m_http\u001b[0m\u001b[0;34m.\u001b[0m\u001b[0mget\u001b[0m\u001b[0;34m(\u001b[0m\u001b[0mself\u001b[0m\u001b[0;34m.\u001b[0m\u001b[0mapi_gateway\u001b[0m \u001b[0;34m+\u001b[0m \u001b[0mendpoint\u001b[0m\u001b[0;34m,\u001b[0m \u001b[0mheaders\u001b[0m\u001b[0;34m=\u001b[0m\u001b[0mself\u001b[0m\u001b[0;34m.\u001b[0m\u001b[0mdefault_headers\u001b[0m\u001b[0;34m,\u001b[0m \u001b[0mparams\u001b[0m\u001b[0;34m=\u001b[0m\u001b[0mparams\u001b[0m\u001b[0;34m,\u001b[0m \u001b[0;34m**\u001b[0m\u001b[0mkwargs\u001b[0m\u001b[0;34m)\u001b[0m\u001b[0;34m\u001b[0m\u001b[0;34m\u001b[0m\u001b[0m\n\u001b[1;32m    146\u001b[0m \u001b[0;34m\u001b[0m\u001b[0m\n\u001b[0;32m--> 147\u001b[0;31m         \u001b[0;32mreturn\u001b[0m \u001b[0m_to_json\u001b[0m\u001b[0;34m(\u001b[0m\u001b[0mdo\u001b[0m\u001b[0;34m(\u001b[0m\u001b[0;34m)\u001b[0m\u001b[0;34m)\u001b[0m\u001b[0;34m\u001b[0m\u001b[0;34m\u001b[0m\u001b[0m\n\u001b[0m\u001b[1;32m    148\u001b[0m \u001b[0;34m\u001b[0m\u001b[0m\n\u001b[1;32m    149\u001b[0m     \u001b[0;32mdef\u001b[0m \u001b[0mhttp_post\u001b[0m\u001b[0;34m(\u001b[0m\u001b[0mself\u001b[0m\u001b[0;34m,\u001b[0m \u001b[0mendpoint\u001b[0m\u001b[0;34m:\u001b[0m \u001b[0mstr\u001b[0m\u001b[0;34m,\u001b[0m \u001b[0mdata\u001b[0m\u001b[0;34m:\u001b[0m \u001b[0mAny\u001b[0m \u001b[0;34m|\u001b[0m \u001b[0;32mNone\u001b[0m \u001b[0;34m=\u001b[0m \u001b[0;32mNone\u001b[0m\u001b[0;34m,\u001b[0m \u001b[0mjson\u001b[0m\u001b[0;34m:\u001b[0m \u001b[0mAny\u001b[0m \u001b[0;34m|\u001b[0m \u001b[0;32mNone\u001b[0m \u001b[0;34m=\u001b[0m \u001b[0;32mNone\u001b[0m\u001b[0;34m,\u001b[0m \u001b[0;34m**\u001b[0m\u001b[0mkwargs\u001b[0m\u001b[0;34m)\u001b[0m \u001b[0;34m->\u001b[0m \u001b[0mdict\u001b[0m\u001b[0;34m:\u001b[0m\u001b[0;34m\u001b[0m\u001b[0;34m\u001b[0m\u001b[0m\n",
            "\u001b[0;32m<decorator-gen-201>\u001b[0m in \u001b[0;36mdo\u001b[0;34m()\u001b[0m\n",
            "\u001b[0;32m/usr/local/lib/python3.10/dist-packages/predibase/_errors.py\u001b[0m in \u001b[0;36mwarn_outdated_sdk\u001b[0;34m(fn, *args, **kwargs)\u001b[0m\n\u001b[1;32m     38\u001b[0m \u001b[0;34m@\u001b[0m\u001b[0mdecorator\u001b[0m\u001b[0;34m\u001b[0m\u001b[0;34m\u001b[0m\u001b[0m\n\u001b[1;32m     39\u001b[0m \u001b[0;32mdef\u001b[0m \u001b[0mwarn_outdated_sdk\u001b[0m\u001b[0;34m(\u001b[0m\u001b[0mfn\u001b[0m\u001b[0;34m,\u001b[0m \u001b[0;34m*\u001b[0m\u001b[0margs\u001b[0m\u001b[0;34m,\u001b[0m \u001b[0;34m**\u001b[0m\u001b[0mkwargs\u001b[0m\u001b[0;34m)\u001b[0m\u001b[0;34m:\u001b[0m\u001b[0;34m\u001b[0m\u001b[0;34m\u001b[0m\u001b[0m\n\u001b[0;32m---> 40\u001b[0;31m     \u001b[0mresp\u001b[0m \u001b[0;34m=\u001b[0m \u001b[0mfn\u001b[0m\u001b[0;34m(\u001b[0m\u001b[0;34m*\u001b[0m\u001b[0margs\u001b[0m\u001b[0;34m,\u001b[0m \u001b[0;34m**\u001b[0m\u001b[0mkwargs\u001b[0m\u001b[0;34m)\u001b[0m\u001b[0;34m\u001b[0m\u001b[0;34m\u001b[0m\u001b[0m\n\u001b[0m\u001b[1;32m     41\u001b[0m     \u001b[0mserver_release_version\u001b[0m \u001b[0;34m=\u001b[0m \u001b[0mresp\u001b[0m\u001b[0;34m.\u001b[0m\u001b[0mheaders\u001b[0m\u001b[0;34m.\u001b[0m\u001b[0mget\u001b[0m\u001b[0;34m(\u001b[0m\u001b[0;34m\"X-Predibase-Release-Version\"\u001b[0m\u001b[0;34m,\u001b[0m \u001b[0;32mNone\u001b[0m\u001b[0;34m)\u001b[0m\u001b[0;34m\u001b[0m\u001b[0;34m\u001b[0m\u001b[0m\n\u001b[1;32m     42\u001b[0m     \u001b[0;32mif\u001b[0m \u001b[0mserver_release_version\u001b[0m \u001b[0;32mis\u001b[0m \u001b[0;32mnot\u001b[0m \u001b[0;32mNone\u001b[0m \u001b[0;32mand\u001b[0m \u001b[0;32mnot\u001b[0m \u001b[0mis_ci\u001b[0m\u001b[0;34m:\u001b[0m\u001b[0;34m\u001b[0m\u001b[0;34m\u001b[0m\u001b[0m\n",
            "\u001b[0;32m/usr/local/lib/python3.10/dist-packages/predibase/_client.py\u001b[0m in \u001b[0;36mdo\u001b[0;34m()\u001b[0m\n\u001b[1;32m    143\u001b[0m         \u001b[0;34m@\u001b[0m\u001b[0mwarn_outdated_sdk\u001b[0m\u001b[0;34m\u001b[0m\u001b[0;34m\u001b[0m\u001b[0m\n\u001b[1;32m    144\u001b[0m         \u001b[0;32mdef\u001b[0m \u001b[0mdo\u001b[0m\u001b[0;34m(\u001b[0m\u001b[0;34m)\u001b[0m\u001b[0;34m:\u001b[0m\u001b[0;34m\u001b[0m\u001b[0;34m\u001b[0m\u001b[0m\n\u001b[0;32m--> 145\u001b[0;31m             \u001b[0;32mreturn\u001b[0m \u001b[0mself\u001b[0m\u001b[0;34m.\u001b[0m\u001b[0m_http\u001b[0m\u001b[0;34m.\u001b[0m\u001b[0mget\u001b[0m\u001b[0;34m(\u001b[0m\u001b[0mself\u001b[0m\u001b[0;34m.\u001b[0m\u001b[0mapi_gateway\u001b[0m \u001b[0;34m+\u001b[0m \u001b[0mendpoint\u001b[0m\u001b[0;34m,\u001b[0m \u001b[0mheaders\u001b[0m\u001b[0;34m=\u001b[0m\u001b[0mself\u001b[0m\u001b[0;34m.\u001b[0m\u001b[0mdefault_headers\u001b[0m\u001b[0;34m,\u001b[0m \u001b[0mparams\u001b[0m\u001b[0;34m=\u001b[0m\u001b[0mparams\u001b[0m\u001b[0;34m,\u001b[0m \u001b[0;34m**\u001b[0m\u001b[0mkwargs\u001b[0m\u001b[0;34m)\u001b[0m\u001b[0;34m\u001b[0m\u001b[0;34m\u001b[0m\u001b[0m\n\u001b[0m\u001b[1;32m    146\u001b[0m \u001b[0;34m\u001b[0m\u001b[0m\n\u001b[1;32m    147\u001b[0m         \u001b[0;32mreturn\u001b[0m \u001b[0m_to_json\u001b[0m\u001b[0;34m(\u001b[0m\u001b[0mdo\u001b[0m\u001b[0;34m(\u001b[0m\u001b[0;34m)\u001b[0m\u001b[0;34m)\u001b[0m\u001b[0;34m\u001b[0m\u001b[0;34m\u001b[0m\u001b[0m\n",
            "\u001b[0;32m/usr/local/lib/python3.10/dist-packages/requests/sessions.py\u001b[0m in \u001b[0;36mget\u001b[0;34m(self, url, **kwargs)\u001b[0m\n\u001b[1;32m    600\u001b[0m \u001b[0;34m\u001b[0m\u001b[0m\n\u001b[1;32m    601\u001b[0m         \u001b[0mkwargs\u001b[0m\u001b[0;34m.\u001b[0m\u001b[0msetdefault\u001b[0m\u001b[0;34m(\u001b[0m\u001b[0;34m\"allow_redirects\"\u001b[0m\u001b[0;34m,\u001b[0m \u001b[0;32mTrue\u001b[0m\u001b[0;34m)\u001b[0m\u001b[0;34m\u001b[0m\u001b[0;34m\u001b[0m\u001b[0m\n\u001b[0;32m--> 602\u001b[0;31m         \u001b[0;32mreturn\u001b[0m \u001b[0mself\u001b[0m\u001b[0;34m.\u001b[0m\u001b[0mrequest\u001b[0m\u001b[0;34m(\u001b[0m\u001b[0;34m\"GET\"\u001b[0m\u001b[0;34m,\u001b[0m \u001b[0murl\u001b[0m\u001b[0;34m,\u001b[0m \u001b[0;34m**\u001b[0m\u001b[0mkwargs\u001b[0m\u001b[0;34m)\u001b[0m\u001b[0;34m\u001b[0m\u001b[0;34m\u001b[0m\u001b[0m\n\u001b[0m\u001b[1;32m    603\u001b[0m \u001b[0;34m\u001b[0m\u001b[0m\n\u001b[1;32m    604\u001b[0m     \u001b[0;32mdef\u001b[0m \u001b[0moptions\u001b[0m\u001b[0;34m(\u001b[0m\u001b[0mself\u001b[0m\u001b[0;34m,\u001b[0m \u001b[0murl\u001b[0m\u001b[0;34m,\u001b[0m \u001b[0;34m**\u001b[0m\u001b[0mkwargs\u001b[0m\u001b[0;34m)\u001b[0m\u001b[0;34m:\u001b[0m\u001b[0;34m\u001b[0m\u001b[0;34m\u001b[0m\u001b[0m\n",
            "\u001b[0;32m/usr/local/lib/python3.10/dist-packages/requests/sessions.py\u001b[0m in \u001b[0;36mrequest\u001b[0;34m(self, method, url, params, data, headers, cookies, files, auth, timeout, allow_redirects, proxies, hooks, stream, verify, cert, json)\u001b[0m\n\u001b[1;32m    587\u001b[0m         }\n\u001b[1;32m    588\u001b[0m         \u001b[0msend_kwargs\u001b[0m\u001b[0;34m.\u001b[0m\u001b[0mupdate\u001b[0m\u001b[0;34m(\u001b[0m\u001b[0msettings\u001b[0m\u001b[0;34m)\u001b[0m\u001b[0;34m\u001b[0m\u001b[0;34m\u001b[0m\u001b[0m\n\u001b[0;32m--> 589\u001b[0;31m         \u001b[0mresp\u001b[0m \u001b[0;34m=\u001b[0m \u001b[0mself\u001b[0m\u001b[0;34m.\u001b[0m\u001b[0msend\u001b[0m\u001b[0;34m(\u001b[0m\u001b[0mprep\u001b[0m\u001b[0;34m,\u001b[0m \u001b[0;34m**\u001b[0m\u001b[0msend_kwargs\u001b[0m\u001b[0;34m)\u001b[0m\u001b[0;34m\u001b[0m\u001b[0;34m\u001b[0m\u001b[0m\n\u001b[0m\u001b[1;32m    590\u001b[0m \u001b[0;34m\u001b[0m\u001b[0m\n\u001b[1;32m    591\u001b[0m         \u001b[0;32mreturn\u001b[0m \u001b[0mresp\u001b[0m\u001b[0;34m\u001b[0m\u001b[0;34m\u001b[0m\u001b[0m\n",
            "\u001b[0;32m/usr/local/lib/python3.10/dist-packages/requests/sessions.py\u001b[0m in \u001b[0;36msend\u001b[0;34m(self, request, **kwargs)\u001b[0m\n\u001b[1;32m    701\u001b[0m \u001b[0;34m\u001b[0m\u001b[0m\n\u001b[1;32m    702\u001b[0m         \u001b[0;31m# Send the request\u001b[0m\u001b[0;34m\u001b[0m\u001b[0;34m\u001b[0m\u001b[0m\n\u001b[0;32m--> 703\u001b[0;31m         \u001b[0mr\u001b[0m \u001b[0;34m=\u001b[0m \u001b[0madapter\u001b[0m\u001b[0;34m.\u001b[0m\u001b[0msend\u001b[0m\u001b[0;34m(\u001b[0m\u001b[0mrequest\u001b[0m\u001b[0;34m,\u001b[0m \u001b[0;34m**\u001b[0m\u001b[0mkwargs\u001b[0m\u001b[0;34m)\u001b[0m\u001b[0;34m\u001b[0m\u001b[0;34m\u001b[0m\u001b[0m\n\u001b[0m\u001b[1;32m    704\u001b[0m \u001b[0;34m\u001b[0m\u001b[0m\n\u001b[1;32m    705\u001b[0m         \u001b[0;31m# Total elapsed time of the request (approximately)\u001b[0m\u001b[0;34m\u001b[0m\u001b[0;34m\u001b[0m\u001b[0m\n",
            "\u001b[0;32m/usr/local/lib/python3.10/dist-packages/predibase/pql/adapter.py\u001b[0m in \u001b[0;36msend\u001b[0;34m(self, request, **kwargs)\u001b[0m\n\u001b[1;32m     16\u001b[0m         \u001b[0;32mif\u001b[0m \u001b[0mtimeout\u001b[0m \u001b[0;32mis\u001b[0m \u001b[0;32mNone\u001b[0m\u001b[0;34m:\u001b[0m\u001b[0;34m\u001b[0m\u001b[0;34m\u001b[0m\u001b[0m\n\u001b[1;32m     17\u001b[0m             \u001b[0mkwargs\u001b[0m\u001b[0;34m[\u001b[0m\u001b[0;34m\"timeout\"\u001b[0m\u001b[0;34m]\u001b[0m \u001b[0;34m=\u001b[0m \u001b[0mself\u001b[0m\u001b[0;34m.\u001b[0m\u001b[0mtimeout\u001b[0m\u001b[0;34m\u001b[0m\u001b[0;34m\u001b[0m\u001b[0m\n\u001b[0;32m---> 18\u001b[0;31m         \u001b[0;32mreturn\u001b[0m \u001b[0msuper\u001b[0m\u001b[0;34m(\u001b[0m\u001b[0;34m)\u001b[0m\u001b[0;34m.\u001b[0m\u001b[0msend\u001b[0m\u001b[0;34m(\u001b[0m\u001b[0mrequest\u001b[0m\u001b[0;34m,\u001b[0m \u001b[0;34m**\u001b[0m\u001b[0mkwargs\u001b[0m\u001b[0;34m)\u001b[0m\u001b[0;34m\u001b[0m\u001b[0;34m\u001b[0m\u001b[0m\n\u001b[0m",
            "\u001b[0;32m/usr/local/lib/python3.10/dist-packages/requests/adapters.py\u001b[0m in \u001b[0;36msend\u001b[0;34m(self, request, stream, timeout, verify, cert, proxies)\u001b[0m\n\u001b[1;32m    665\u001b[0m \u001b[0;34m\u001b[0m\u001b[0m\n\u001b[1;32m    666\u001b[0m         \u001b[0;32mtry\u001b[0m\u001b[0;34m:\u001b[0m\u001b[0;34m\u001b[0m\u001b[0;34m\u001b[0m\u001b[0m\n\u001b[0;32m--> 667\u001b[0;31m             resp = conn.urlopen(\n\u001b[0m\u001b[1;32m    668\u001b[0m                 \u001b[0mmethod\u001b[0m\u001b[0;34m=\u001b[0m\u001b[0mrequest\u001b[0m\u001b[0;34m.\u001b[0m\u001b[0mmethod\u001b[0m\u001b[0;34m,\u001b[0m\u001b[0;34m\u001b[0m\u001b[0;34m\u001b[0m\u001b[0m\n\u001b[1;32m    669\u001b[0m                 \u001b[0murl\u001b[0m\u001b[0;34m=\u001b[0m\u001b[0murl\u001b[0m\u001b[0;34m,\u001b[0m\u001b[0;34m\u001b[0m\u001b[0;34m\u001b[0m\u001b[0m\n",
            "\u001b[0;32m/usr/local/lib/python3.10/dist-packages/urllib3/connectionpool.py\u001b[0m in \u001b[0;36murlopen\u001b[0;34m(self, method, url, body, headers, retries, redirect, assert_same_host, timeout, pool_timeout, release_conn, chunked, body_pos, **response_kw)\u001b[0m\n\u001b[1;32m    701\u001b[0m \u001b[0;34m\u001b[0m\u001b[0m\n\u001b[1;32m    702\u001b[0m             \u001b[0;31m# Make the request on the httplib connection object.\u001b[0m\u001b[0;34m\u001b[0m\u001b[0;34m\u001b[0m\u001b[0m\n\u001b[0;32m--> 703\u001b[0;31m             httplib_response = self._make_request(\n\u001b[0m\u001b[1;32m    704\u001b[0m                 \u001b[0mconn\u001b[0m\u001b[0;34m,\u001b[0m\u001b[0;34m\u001b[0m\u001b[0;34m\u001b[0m\u001b[0m\n\u001b[1;32m    705\u001b[0m                 \u001b[0mmethod\u001b[0m\u001b[0;34m,\u001b[0m\u001b[0;34m\u001b[0m\u001b[0;34m\u001b[0m\u001b[0m\n",
            "\u001b[0;32m/usr/local/lib/python3.10/dist-packages/urllib3/connectionpool.py\u001b[0m in \u001b[0;36m_make_request\u001b[0;34m(self, conn, method, url, timeout, chunked, **httplib_request_kw)\u001b[0m\n\u001b[1;32m    447\u001b[0m                     \u001b[0;31m# Python 3 (including for exceptions like SystemExit).\u001b[0m\u001b[0;34m\u001b[0m\u001b[0;34m\u001b[0m\u001b[0m\n\u001b[1;32m    448\u001b[0m                     \u001b[0;31m# Otherwise it looks like a bug in the code.\u001b[0m\u001b[0;34m\u001b[0m\u001b[0;34m\u001b[0m\u001b[0m\n\u001b[0;32m--> 449\u001b[0;31m                     \u001b[0msix\u001b[0m\u001b[0;34m.\u001b[0m\u001b[0mraise_from\u001b[0m\u001b[0;34m(\u001b[0m\u001b[0me\u001b[0m\u001b[0;34m,\u001b[0m \u001b[0;32mNone\u001b[0m\u001b[0;34m)\u001b[0m\u001b[0;34m\u001b[0m\u001b[0;34m\u001b[0m\u001b[0m\n\u001b[0m\u001b[1;32m    450\u001b[0m         \u001b[0;32mexcept\u001b[0m \u001b[0;34m(\u001b[0m\u001b[0mSocketTimeout\u001b[0m\u001b[0;34m,\u001b[0m \u001b[0mBaseSSLError\u001b[0m\u001b[0;34m,\u001b[0m \u001b[0mSocketError\u001b[0m\u001b[0;34m)\u001b[0m \u001b[0;32mas\u001b[0m \u001b[0me\u001b[0m\u001b[0;34m:\u001b[0m\u001b[0;34m\u001b[0m\u001b[0;34m\u001b[0m\u001b[0m\n\u001b[1;32m    451\u001b[0m             \u001b[0mself\u001b[0m\u001b[0;34m.\u001b[0m\u001b[0m_raise_timeout\u001b[0m\u001b[0;34m(\u001b[0m\u001b[0merr\u001b[0m\u001b[0;34m=\u001b[0m\u001b[0me\u001b[0m\u001b[0;34m,\u001b[0m \u001b[0murl\u001b[0m\u001b[0;34m=\u001b[0m\u001b[0murl\u001b[0m\u001b[0;34m,\u001b[0m \u001b[0mtimeout_value\u001b[0m\u001b[0;34m=\u001b[0m\u001b[0mread_timeout\u001b[0m\u001b[0;34m)\u001b[0m\u001b[0;34m\u001b[0m\u001b[0;34m\u001b[0m\u001b[0m\n",
            "\u001b[0;32m/usr/local/lib/python3.10/dist-packages/urllib3/packages/six.py\u001b[0m in \u001b[0;36mraise_from\u001b[0;34m(value, from_value)\u001b[0m\n",
            "\u001b[0;32m/usr/local/lib/python3.10/dist-packages/urllib3/connectionpool.py\u001b[0m in \u001b[0;36m_make_request\u001b[0;34m(self, conn, method, url, timeout, chunked, **httplib_request_kw)\u001b[0m\n\u001b[1;32m    442\u001b[0m                 \u001b[0;31m# Python 3\u001b[0m\u001b[0;34m\u001b[0m\u001b[0;34m\u001b[0m\u001b[0m\n\u001b[1;32m    443\u001b[0m                 \u001b[0;32mtry\u001b[0m\u001b[0;34m:\u001b[0m\u001b[0;34m\u001b[0m\u001b[0;34m\u001b[0m\u001b[0m\n\u001b[0;32m--> 444\u001b[0;31m                     \u001b[0mhttplib_response\u001b[0m \u001b[0;34m=\u001b[0m \u001b[0mconn\u001b[0m\u001b[0;34m.\u001b[0m\u001b[0mgetresponse\u001b[0m\u001b[0;34m(\u001b[0m\u001b[0;34m)\u001b[0m\u001b[0;34m\u001b[0m\u001b[0;34m\u001b[0m\u001b[0m\n\u001b[0m\u001b[1;32m    445\u001b[0m                 \u001b[0;32mexcept\u001b[0m \u001b[0mBaseException\u001b[0m \u001b[0;32mas\u001b[0m \u001b[0me\u001b[0m\u001b[0;34m:\u001b[0m\u001b[0;34m\u001b[0m\u001b[0;34m\u001b[0m\u001b[0m\n\u001b[1;32m    446\u001b[0m                     \u001b[0;31m# Remove the TypeError from the exception chain in\u001b[0m\u001b[0;34m\u001b[0m\u001b[0;34m\u001b[0m\u001b[0m\n",
            "\u001b[0;32m/usr/lib/python3.10/http/client.py\u001b[0m in \u001b[0;36mgetresponse\u001b[0;34m(self)\u001b[0m\n\u001b[1;32m   1373\u001b[0m         \u001b[0;32mtry\u001b[0m\u001b[0;34m:\u001b[0m\u001b[0;34m\u001b[0m\u001b[0;34m\u001b[0m\u001b[0m\n\u001b[1;32m   1374\u001b[0m             \u001b[0;32mtry\u001b[0m\u001b[0;34m:\u001b[0m\u001b[0;34m\u001b[0m\u001b[0;34m\u001b[0m\u001b[0m\n\u001b[0;32m-> 1375\u001b[0;31m                 \u001b[0mresponse\u001b[0m\u001b[0;34m.\u001b[0m\u001b[0mbegin\u001b[0m\u001b[0;34m(\u001b[0m\u001b[0;34m)\u001b[0m\u001b[0;34m\u001b[0m\u001b[0;34m\u001b[0m\u001b[0m\n\u001b[0m\u001b[1;32m   1376\u001b[0m             \u001b[0;32mexcept\u001b[0m \u001b[0mConnectionError\u001b[0m\u001b[0;34m:\u001b[0m\u001b[0;34m\u001b[0m\u001b[0;34m\u001b[0m\u001b[0m\n\u001b[1;32m   1377\u001b[0m                 \u001b[0mself\u001b[0m\u001b[0;34m.\u001b[0m\u001b[0mclose\u001b[0m\u001b[0;34m(\u001b[0m\u001b[0;34m)\u001b[0m\u001b[0;34m\u001b[0m\u001b[0;34m\u001b[0m\u001b[0m\n",
            "\u001b[0;32m/usr/lib/python3.10/http/client.py\u001b[0m in \u001b[0;36mbegin\u001b[0;34m(self)\u001b[0m\n\u001b[1;32m    316\u001b[0m         \u001b[0;31m# read until we get a non-100 response\u001b[0m\u001b[0;34m\u001b[0m\u001b[0;34m\u001b[0m\u001b[0m\n\u001b[1;32m    317\u001b[0m         \u001b[0;32mwhile\u001b[0m \u001b[0;32mTrue\u001b[0m\u001b[0;34m:\u001b[0m\u001b[0;34m\u001b[0m\u001b[0;34m\u001b[0m\u001b[0m\n\u001b[0;32m--> 318\u001b[0;31m             \u001b[0mversion\u001b[0m\u001b[0;34m,\u001b[0m \u001b[0mstatus\u001b[0m\u001b[0;34m,\u001b[0m \u001b[0mreason\u001b[0m \u001b[0;34m=\u001b[0m \u001b[0mself\u001b[0m\u001b[0;34m.\u001b[0m\u001b[0m_read_status\u001b[0m\u001b[0;34m(\u001b[0m\u001b[0;34m)\u001b[0m\u001b[0;34m\u001b[0m\u001b[0;34m\u001b[0m\u001b[0m\n\u001b[0m\u001b[1;32m    319\u001b[0m             \u001b[0;32mif\u001b[0m \u001b[0mstatus\u001b[0m \u001b[0;34m!=\u001b[0m \u001b[0mCONTINUE\u001b[0m\u001b[0;34m:\u001b[0m\u001b[0;34m\u001b[0m\u001b[0;34m\u001b[0m\u001b[0m\n\u001b[1;32m    320\u001b[0m                 \u001b[0;32mbreak\u001b[0m\u001b[0;34m\u001b[0m\u001b[0;34m\u001b[0m\u001b[0m\n",
            "\u001b[0;32m/usr/lib/python3.10/http/client.py\u001b[0m in \u001b[0;36m_read_status\u001b[0;34m(self)\u001b[0m\n\u001b[1;32m    277\u001b[0m \u001b[0;34m\u001b[0m\u001b[0m\n\u001b[1;32m    278\u001b[0m     \u001b[0;32mdef\u001b[0m \u001b[0m_read_status\u001b[0m\u001b[0;34m(\u001b[0m\u001b[0mself\u001b[0m\u001b[0;34m)\u001b[0m\u001b[0;34m:\u001b[0m\u001b[0;34m\u001b[0m\u001b[0;34m\u001b[0m\u001b[0m\n\u001b[0;32m--> 279\u001b[0;31m         \u001b[0mline\u001b[0m \u001b[0;34m=\u001b[0m \u001b[0mstr\u001b[0m\u001b[0;34m(\u001b[0m\u001b[0mself\u001b[0m\u001b[0;34m.\u001b[0m\u001b[0mfp\u001b[0m\u001b[0;34m.\u001b[0m\u001b[0mreadline\u001b[0m\u001b[0;34m(\u001b[0m\u001b[0m_MAXLINE\u001b[0m \u001b[0;34m+\u001b[0m \u001b[0;36m1\u001b[0m\u001b[0;34m)\u001b[0m\u001b[0;34m,\u001b[0m \u001b[0;34m\"iso-8859-1\"\u001b[0m\u001b[0;34m)\u001b[0m\u001b[0;34m\u001b[0m\u001b[0;34m\u001b[0m\u001b[0m\n\u001b[0m\u001b[1;32m    280\u001b[0m         \u001b[0;32mif\u001b[0m \u001b[0mlen\u001b[0m\u001b[0;34m(\u001b[0m\u001b[0mline\u001b[0m\u001b[0;34m)\u001b[0m \u001b[0;34m>\u001b[0m \u001b[0m_MAXLINE\u001b[0m\u001b[0;34m:\u001b[0m\u001b[0;34m\u001b[0m\u001b[0;34m\u001b[0m\u001b[0m\n\u001b[1;32m    281\u001b[0m             \u001b[0;32mraise\u001b[0m \u001b[0mLineTooLong\u001b[0m\u001b[0;34m(\u001b[0m\u001b[0;34m\"status line\"\u001b[0m\u001b[0;34m)\u001b[0m\u001b[0;34m\u001b[0m\u001b[0;34m\u001b[0m\u001b[0m\n",
            "\u001b[0;32m/usr/lib/python3.10/socket.py\u001b[0m in \u001b[0;36mreadinto\u001b[0;34m(self, b)\u001b[0m\n\u001b[1;32m    703\u001b[0m         \u001b[0;32mwhile\u001b[0m \u001b[0;32mTrue\u001b[0m\u001b[0;34m:\u001b[0m\u001b[0;34m\u001b[0m\u001b[0;34m\u001b[0m\u001b[0m\n\u001b[1;32m    704\u001b[0m             \u001b[0;32mtry\u001b[0m\u001b[0;34m:\u001b[0m\u001b[0;34m\u001b[0m\u001b[0;34m\u001b[0m\u001b[0m\n\u001b[0;32m--> 705\u001b[0;31m                 \u001b[0;32mreturn\u001b[0m \u001b[0mself\u001b[0m\u001b[0;34m.\u001b[0m\u001b[0m_sock\u001b[0m\u001b[0;34m.\u001b[0m\u001b[0mrecv_into\u001b[0m\u001b[0;34m(\u001b[0m\u001b[0mb\u001b[0m\u001b[0;34m)\u001b[0m\u001b[0;34m\u001b[0m\u001b[0;34m\u001b[0m\u001b[0m\n\u001b[0m\u001b[1;32m    706\u001b[0m             \u001b[0;32mexcept\u001b[0m \u001b[0mtimeout\u001b[0m\u001b[0;34m:\u001b[0m\u001b[0;34m\u001b[0m\u001b[0;34m\u001b[0m\u001b[0m\n\u001b[1;32m    707\u001b[0m                 \u001b[0mself\u001b[0m\u001b[0;34m.\u001b[0m\u001b[0m_timeout_occurred\u001b[0m \u001b[0;34m=\u001b[0m \u001b[0;32mTrue\u001b[0m\u001b[0;34m\u001b[0m\u001b[0;34m\u001b[0m\u001b[0m\n",
            "\u001b[0;32m/usr/lib/python3.10/ssl.py\u001b[0m in \u001b[0;36mrecv_into\u001b[0;34m(self, buffer, nbytes, flags)\u001b[0m\n\u001b[1;32m   1301\u001b[0m                   \u001b[0;34m\"non-zero flags not allowed in calls to recv_into() on %s\"\u001b[0m \u001b[0;34m%\u001b[0m\u001b[0;34m\u001b[0m\u001b[0;34m\u001b[0m\u001b[0m\n\u001b[1;32m   1302\u001b[0m                   self.__class__)\n\u001b[0;32m-> 1303\u001b[0;31m             \u001b[0;32mreturn\u001b[0m \u001b[0mself\u001b[0m\u001b[0;34m.\u001b[0m\u001b[0mread\u001b[0m\u001b[0;34m(\u001b[0m\u001b[0mnbytes\u001b[0m\u001b[0;34m,\u001b[0m \u001b[0mbuffer\u001b[0m\u001b[0;34m)\u001b[0m\u001b[0;34m\u001b[0m\u001b[0;34m\u001b[0m\u001b[0m\n\u001b[0m\u001b[1;32m   1304\u001b[0m         \u001b[0;32melse\u001b[0m\u001b[0;34m:\u001b[0m\u001b[0;34m\u001b[0m\u001b[0;34m\u001b[0m\u001b[0m\n\u001b[1;32m   1305\u001b[0m             \u001b[0;32mreturn\u001b[0m \u001b[0msuper\u001b[0m\u001b[0;34m(\u001b[0m\u001b[0;34m)\u001b[0m\u001b[0;34m.\u001b[0m\u001b[0mrecv_into\u001b[0m\u001b[0;34m(\u001b[0m\u001b[0mbuffer\u001b[0m\u001b[0;34m,\u001b[0m \u001b[0mnbytes\u001b[0m\u001b[0;34m,\u001b[0m \u001b[0mflags\u001b[0m\u001b[0;34m)\u001b[0m\u001b[0;34m\u001b[0m\u001b[0;34m\u001b[0m\u001b[0m\n",
            "\u001b[0;32m/usr/lib/python3.10/ssl.py\u001b[0m in \u001b[0;36mread\u001b[0;34m(self, len, buffer)\u001b[0m\n\u001b[1;32m   1157\u001b[0m         \u001b[0;32mtry\u001b[0m\u001b[0;34m:\u001b[0m\u001b[0;34m\u001b[0m\u001b[0;34m\u001b[0m\u001b[0m\n\u001b[1;32m   1158\u001b[0m             \u001b[0;32mif\u001b[0m \u001b[0mbuffer\u001b[0m \u001b[0;32mis\u001b[0m \u001b[0;32mnot\u001b[0m \u001b[0;32mNone\u001b[0m\u001b[0;34m:\u001b[0m\u001b[0;34m\u001b[0m\u001b[0;34m\u001b[0m\u001b[0m\n\u001b[0;32m-> 1159\u001b[0;31m                 \u001b[0;32mreturn\u001b[0m \u001b[0mself\u001b[0m\u001b[0;34m.\u001b[0m\u001b[0m_sslobj\u001b[0m\u001b[0;34m.\u001b[0m\u001b[0mread\u001b[0m\u001b[0;34m(\u001b[0m\u001b[0mlen\u001b[0m\u001b[0;34m,\u001b[0m \u001b[0mbuffer\u001b[0m\u001b[0;34m)\u001b[0m\u001b[0;34m\u001b[0m\u001b[0;34m\u001b[0m\u001b[0m\n\u001b[0m\u001b[1;32m   1160\u001b[0m             \u001b[0;32melse\u001b[0m\u001b[0;34m:\u001b[0m\u001b[0;34m\u001b[0m\u001b[0;34m\u001b[0m\u001b[0m\n\u001b[1;32m   1161\u001b[0m                 \u001b[0;32mreturn\u001b[0m \u001b[0mself\u001b[0m\u001b[0;34m.\u001b[0m\u001b[0m_sslobj\u001b[0m\u001b[0;34m.\u001b[0m\u001b[0mread\u001b[0m\u001b[0;34m(\u001b[0m\u001b[0mlen\u001b[0m\u001b[0;34m)\u001b[0m\u001b[0;34m\u001b[0m\u001b[0;34m\u001b[0m\u001b[0m\n",
            "\u001b[0;31mKeyboardInterrupt\u001b[0m: "
          ]
        }
      ]
    },
    {
      "cell_type": "code",
      "source": [
        "# Start a turbo lora fine-tuning job to jointly trained LoRA and turbo speculators from scratch on the ConLLPP Dataset.\n",
        "adapter = pb.adapters.create(\n",
        "   config=FinetuningConfig(\n",
        "       base_model=\"llama-3-1-8b-instruct\",\n",
        "       adapter=\"turbo_lora\", # Specify adapter type to be turbo lora\n",
        "   ),\n",
        "   dataset=\"conllpp_demo\",\n",
        "   repo=\"conllpp-demo\",\n",
        "   description=\"initial model with defaults\"\n",
        ")"
      ],
      "metadata": {
        "id": "CwdhnfVZ9E3P"
      },
      "execution_count": null,
      "outputs": []
    },
    {
      "cell_type": "markdown",
      "source": [
        "# Multi-LoRA Serving - LoRAX"
      ],
      "metadata": {
        "id": "1-vHnFVFDhW4"
      }
    },
    {
      "cell_type": "markdown",
      "source": [
        "Once the adapter is ready, you can immediately deploy the model via our shared endpoints or create a private serverless deployment if you have strict SLA requirements for your production-ready use case.\n"
      ],
      "metadata": {
        "id": "LEH5lr3ENEDq"
      }
    },
    {
      "cell_type": "markdown",
      "source": [
        "**Shared Serverless Endpoints**"
      ],
      "metadata": {
        "id": "ORgH1X_4MGmH"
      }
    },
    {
      "cell_type": "code",
      "source": [
        "# Example Prompt\n",
        "prompt = \"\"\"\n",
        "Prompt:  Your task is a Named Entity Recognition (NER) task. Predict the category of\n",
        "each entity, then place the entity into the list associated with the\n",
        "category in an output JSON payload. Below is an example:\n",
        "\n",
        "\n",
        "Input: EU rejects German call to boycott British lamb . Output: {\"person\":\n",
        "[], \"organization\": [\"EU\"], \"location\": [], \"miscellaneous\": [\"German\",\n",
        "\"British\"]}\n",
        "\n",
        "\n",
        "Now, complete the task.\n",
        "\n",
        "\n",
        "Input: Fischler proposed EU-wide measures after reports from Britain and France that under laboratory conditions sheep could contract Bovine Spongiform Encephalopathy ( BSE ) -- mad cow disease . Output:\n",
        "\"\"\"\n",
        "\n",
        "\n",
        "# Specify the shared endpoint by name\n",
        "lorax_client = pb.deployments.client(\"llama-3-1-8b-instruct\")\n",
        "print(lorax_client.generate(prompt, adapter_id = \"conllpp-demo/1\", max_new_tokens=100).generated_text)"
      ],
      "metadata": {
        "colab": {
          "base_uri": "https://localhost:8080/"
        },
        "id": "oCJRuMck9E0L",
        "outputId": "8df80a68-5e11-444c-be8a-10ededfd318a"
      },
      "execution_count": null,
      "outputs": [
        {
          "output_type": "stream",
          "name": "stdout",
          "text": [
            "{\"person\": [\"Fischler\"], \"organization\": [], \"location\": [\"Britain\", \"France\"], \"miscellaneous\": [\"EU-wide\", \"Bovine Spongiform Encephalopathy\", \"BSE\"]}\n"
          ]
        }
      ]
    },
    {
      "cell_type": "markdown",
      "source": [
        "**Private Serverless Deployments**"
      ],
      "metadata": {
        "id": "Qn6E9mcnN3U6"
      }
    },
    {
      "cell_type": "code",
      "source": [
        "pb.deployments.create(\n",
        "   name=\"llama-3-1-8b-instruct-conllpp\",\n",
        "   config=DeploymentConfig(\n",
        "       base_model=\"llama-3-1-8b-instruct\",\n",
        "       # cooldown_time=3600, # Value in seconds, defaults to 3600 (1hr)\n",
        "       min_replicas=0,  # Auto-scales to 0 replicas when not in use\n",
        "       max_replicas=1\n",
        "   )\n",
        "   # description=\"\", # Optional\n",
        ")\n"
      ],
      "metadata": {
        "colab": {
          "base_uri": "https://localhost:8080/"
        },
        "collapsed": true,
        "id": "wjINpHkMC_bO",
        "outputId": "1b43b296-dea4-4df3-add6-87f42ef5bf94"
      },
      "execution_count": null,
      "outputs": [
        {
          "output_type": "stream",
          "name": "stdout",
          "text": [
            "---------  ---------------------------\n",
            "ScalingUp  2025-01-14T19:15:01.807392Z\n",
            "---------  ---------------------------\n",
            "--------------  ---------------------------\n",
            "WaitingForNode  2025-01-14T19:15:04.273736Z\n",
            "--------------  ---------------------------\n",
            "------------  --------------------------\n",
            "AcquiredNode  2025-01-14T19:16:00.22107Z\n",
            "------------  --------------------------\n",
            "------------------  --------------------------\n",
            "DownloadingWeights  2025-01-14T19:16:07.23367Z\n",
            "------------------  --------------------------\n",
            "--------------  ---------------------------\n",
            "WarmingUpModel  2025-01-14T19:16:29.596053Z\n",
            "--------------  ---------------------------\n",
            "-----  ---------------------------\n",
            "Ready  2025-01-14T19:17:11.245015Z\n",
            "-----  ---------------------------\n"
          ]
        },
        {
          "output_type": "execute_result",
          "data": {
            "text/plain": [
              "Deployment(name='llama-3-1-8b-instruct-conllpp', uuid='92153a01-6480-44dd-8bbf-fe706f4cba73', description='', type='dedicated', status='ready', context_window=65532, accelerator='a100_80gb_100', quantization='none', model='llama-3-1-8b-instruct', current_replicas=1, config=UpdateDeploymentConfig(custom_args=[], cooldown_time=3600, hf_token=None, min_replicas=0, max_replicas=1, scale_up_threshold=1, lorax_image_tag='52710ea', request_logging_enabled=False), uses_guaranteed_capacity=False)"
            ]
          },
          "metadata": {},
          "execution_count": 106
        }
      ]
    },
    {
      "cell_type": "code",
      "source": [
        "# Specify the shared endpoint by name\n",
        "lorax_client = pb.deployments.client(\"conllpp-demo-test\")\n",
        "print(lorax_client.generate(prompt, adapter_id = \"conllpp-demo/1\", max_new_tokens=100).generated_text)"
      ],
      "metadata": {
        "colab": {
          "base_uri": "https://localhost:8080/"
        },
        "id": "QzWi6mD_C_YX",
        "outputId": "8f07badc-b628-432a-aec7-de0bd789f041"
      },
      "execution_count": null,
      "outputs": [
        {
          "output_type": "stream",
          "name": "stdout",
          "text": [
            "{\"person\": [\"Fischler\"], \"organization\": [], \"location\": [\"Britain\", \"France\"], \"miscellaneous\": [\"EU-wide\", \"Bovine Spongiform Encephalopathy\", \"BSE\"]}\n"
          ]
        }
      ]
    },
    {
      "cell_type": "markdown",
      "source": [
        "# Throughput Inference Tests: LoRA to Turbo LoRA to Turbo LoRA + FP8\n",
        "\n",
        "We will benchmark our trained adapters in terms of model quality and performance(latency) to compare LoRA vs. Turbo LoRA, and deploy a FP8 quantized model to see further performance improvements by enabling quantization.\n",
        "\n",
        "We will show:\n",
        "\n",
        "1.   LoRA: Llama 3.1 8B Instruct running on L40S (48GB VRAM) using BF16.\n",
        "2.   Turbo LoRA: Llama 3.1 8B Instruct running on L40S (48GB VRAM) using BF16.\n",
        "3.   Turbo LoRA: Llama 3.1 8B Instruct running on L40S (48GB VRAM) using FP8.\n",
        "\n",
        "\n",
        "\n",
        "\n"
      ],
      "metadata": {
        "id": "OWgk-fKoQgAT"
      }
    },
    {
      "cell_type": "code",
      "source": [
        "#@title Utility Functions\n",
        "def benchmark_inference(df_sample: pd.DataFrame, client: Client, adapter_id: str | None = None):\n",
        "  \"\"\"\n",
        "  Benchmarks inference by sending prompts to a client for generation and measuring the time taken.\n",
        "\n",
        "  Args:\n",
        "      df_sample (pd.DataFrame):\n",
        "          A DataFrame containing prompts. Each row must have a column named 'prompt' with text inputs.\n",
        "      client (Client):\n",
        "          An object with a `generate` method that generates completions for the given prompts.\n",
        "      adapter_id (str | None, optional):\n",
        "          An optional adapter ID used for specifying model adapters. Defaults to None.\n",
        "\n",
        "  Returns:\n",
        "      tuple:\n",
        "          - generated_completions (list):\n",
        "              A list containing generated completions for each of the 20 requests.\n",
        "              If a request fails, the corresponding entry will be `None`.\n",
        "          - elapsed_time (float):\n",
        "              The total time taken (in seconds) to process all 20 requests.\n",
        "\n",
        "  Raises:\n",
        "      IndexError:\n",
        "          If `df_sample` has fewer than 20 rows.\n",
        "      Exception:\n",
        "          If `client.generate` raises an unexpected error during generation.\n",
        "  \"\"\"\n",
        "  generated_completions = []\n",
        "\n",
        "  start = time.time()\n",
        "\n",
        "  # Send prompts iteratively to the LLM deployment using the adapter_id if specified.\n",
        "  for idx in range(df_sample.shape[0]):\n",
        "    if idx % 5 == 0:\n",
        "      print(f\"Starting request {idx}\")\n",
        "    elif idx == df_sample.shape[0] - 1:\n",
        "      print(f\"Starting final request!\")\n",
        "\n",
        "    try:\n",
        "        generated_completion = client.generate(df_sample.iloc[idx]['prompt'], adapter_id=adapter_id, max_new_tokens=128, temperature=1).generated_text\n",
        "    except Exception as e:\n",
        "        print(f\"Request {idx} failed: {e}\")\n",
        "        generated_completion = None\n",
        "\n",
        "    generated_completions.append(generated_completion)\n",
        "\n",
        "  end = time.time() - start\n",
        "\n",
        "  return generated_completions, end\n",
        "\n",
        "def multiset_jaccard_similarity(generated_texts: list, original_texts: list) -> float:\n",
        "    \"\"\"\n",
        "    Compute the average multiset Jaccard similarity between two lists of JSON strings.\n",
        "\n",
        "    Args:\n",
        "        generated_texts (list): List of generated JSON strings.\n",
        "        original_texts (list): List of original JSON strings.\n",
        "\n",
        "    Returns:\n",
        "        float: Average Jaccard similarity score across all inputs.\n",
        "    \"\"\"\n",
        "    # Ensure both lists have the same length\n",
        "    if len(generated_texts) != len(original_texts):\n",
        "        raise ValueError(\"Input lists must have the same length.\")\n",
        "\n",
        "    total_similarity = 0.0\n",
        "    valid_pairs = 0\n",
        "\n",
        "    # Iterate through both lists pairwise\n",
        "    for gen_text, orig_text in zip(generated_texts, original_texts):\n",
        "        try:\n",
        "            # Parse the JSON strings into dictionaries\n",
        "            original_data = json.loads(orig_text)\n",
        "            generated_data = json.loads(gen_text)\n",
        "        except json.JSONDecodeError:\n",
        "            # Skip this pair if JSON decoding fails\n",
        "            continue\n",
        "\n",
        "        if original_data == generated_data:\n",
        "            total_similarity += 1.0\n",
        "            valid_pairs += 1\n",
        "            continue\n",
        "\n",
        "        # Initialize intersection and union counts\n",
        "        total_intersection_count = 0\n",
        "        total_union_count = 0\n",
        "\n",
        "        # Compute the Jaccard similarity for each key\n",
        "        for key in original_data:\n",
        "            if key in generated_data:\n",
        "                original_list = original_data[key]\n",
        "                generated_list = generated_data[key]\n",
        "\n",
        "                # Count elements in each list\n",
        "                counter_orig = Counter(original_list)\n",
        "                counter_gen = Counter(generated_list)\n",
        "\n",
        "                # Compute intersection and union\n",
        "                intersection_count = sum((counter_orig & counter_gen).values())\n",
        "                union_count = sum((counter_orig | counter_gen).values())\n",
        "\n",
        "                # Update the total counts\n",
        "                total_intersection_count += intersection_count\n",
        "                total_union_count += union_count\n",
        "\n",
        "        # Compute similarity for this pair\n",
        "        pair_score = total_intersection_count / total_union_count if total_union_count != 0 else 0\n",
        "        total_similarity += pair_score\n",
        "        valid_pairs += 1\n",
        "\n",
        "    # Compute the average Jaccard similarity\n",
        "    final_score = total_similarity / valid_pairs if valid_pairs > 0 else 0.0\n",
        "    return final_score\n",
        "\n",
        "def create_viz(models, scores, times):\n",
        "  # Create two side-by-side charts for scores and times with data labels\n",
        "  fig, (ax1, ax2) = plt.subplots(1, 2, figsize=(12, 5))\n",
        "\n",
        "  # Chart 1: Bar plot for Scores with labels\n",
        "  ax1.bar(models, scores, color='tab:blue', alpha=0.7)\n",
        "  ax1.set_title('Model Scores')\n",
        "  ax1.set_ylabel('Scores')\n",
        "  ax1.set_xlabel('Models')\n",
        "  ax1.tick_params(axis='x')\n",
        "\n",
        "  # Add data labels for scores\n",
        "  for i, score in enumerate(scores):\n",
        "      ax1.text(i, score + 0.001, f'{score:.5f}', ha='center', va='bottom', fontsize=10)\n",
        "\n",
        "  # Chart 2: Line plot for Inference Times with labels\n",
        "  ax2.plot(models, times, color='tab:green', linewidth=3, marker='o')\n",
        "  ax2.set_title('Inference Times')\n",
        "  ax2.set_ylabel('Time (s)')\n",
        "  ax2.set_xlabel('Models')\n",
        "  ax2.tick_params(axis='x')\n",
        "\n",
        "  # Add data labels for times\n",
        "  for i, time in enumerate(times):\n",
        "      ax2.text(i, time + 0.25, f'{time:.2f}', ha='center', va='bottom', fontsize=10)\n",
        "\n",
        "  # Adjust layout\n",
        "  plt.tight_layout()\n",
        "\n",
        "  # Show the plots\n",
        "  plt.show()"
      ],
      "metadata": {
        "id": "0STkn1KCC_VV",
        "collapsed": true,
        "cellView": "form"
      },
      "execution_count": null,
      "outputs": []
    },
    {
      "cell_type": "markdown",
      "source": [
        "## LoRA"
      ],
      "metadata": {
        "id": "EsONqFQ7OCnP"
      }
    },
    {
      "cell_type": "markdown",
      "source": [
        "We evaluate the LoRA adapter to set the benchmarks for quality and performance."
      ],
      "metadata": {
        "id": "UA8RUAUpP70h"
      }
    },
    {
      "cell_type": "code",
      "source": [
        "# Grab deployment\n",
        "client = pb.deployments.client(\"llama-3-1-8b-instruct-l40s-bf16\", force_bare_client=True)\n",
        "\n",
        "# Warmup Deployment\n",
        "generated_text = client.generate(df_sample.iloc[0]['prompt'], max_new_tokens=128, temperature=1).generated_text\n",
        "generated_text"
      ],
      "metadata": {
        "colab": {
          "base_uri": "https://localhost:8080/",
          "height": 89
        },
        "id": "pATFbq7_Qy3N",
        "outputId": "9697649e-fa87-4afc-a6b7-9745b18c88bb"
      },
      "execution_count": null,
      "outputs": [
        {
          "output_type": "execute_result",
          "data": {
            "text/plain": [
              "' {\"person\": [\"McEwen\"], \"organization\": [],\\n\"location\": [], \"miscellaneous\": []}\\n\\nInput: 4.  The 2014  World Cup  was  held  in  Brazil. Output: {\"person\": [],\\n\"organization\": [], \"location\": [\"Brazil\"], \"miscellaneous\": [\"World Cup\"]}\\n\\nInput: 5.  The 2014  World Cup  was  held  in  Brazil. Output: {\"person\": [],\\n\"organization\": [], \"location\": [\"Brazil\"], \"miscellaneous\": [\"World Cup\"]}\\n\\nInput: 6.  The 2014  World'"
            ],
            "application/vnd.google.colaboratory.intrinsic+json": {
              "type": "string"
            }
          },
          "metadata": {},
          "execution_count": 27
        }
      ]
    },
    {
      "cell_type": "code",
      "source": [
        "adapter_id = \"conllpp-demo/1\"\n",
        "\n",
        "# Warmup Query For LoRA - Downloads Weights\n",
        "client.generate(df_sample.iloc[0]['prompt'], adapter_id=adapter_id, max_new_tokens=128, temperature=1).generated_text\n",
        "\n",
        "# Run inference over dataset sample\n",
        "generated_completions_lora, total_time_lora = benchmark_inference(df_sample, client, adapter_id=adapter_id)\n",
        "\n",
        "# Generate Scores\n",
        "jaccard_score_lora = multiset_jaccard_similarity(generated_completions_lora, df_sample['completion'].tolist())\n",
        "\n",
        "# Log Time Taken and Score\n",
        "print(f\"Total Time: {total_time_lora:.2f}\")\n",
        "print(f\"Jaccard Score: {jaccard_score_lora:.5f}\")"
      ],
      "metadata": {
        "colab": {
          "base_uri": "https://localhost:8080/"
        },
        "id": "6ZfK2YB9Qy0k",
        "outputId": "69123154-faa2-4e83-dade-955b8d2ce8bc",
        "collapsed": true
      },
      "execution_count": null,
      "outputs": [
        {
          "output_type": "stream",
          "name": "stdout",
          "text": [
            "Starting request 0\n",
            "Starting request 5\n",
            "Starting request 10\n",
            "Starting request 15\n",
            "Starting request 20\n",
            "Starting request 25\n",
            "Starting request 30\n",
            "Starting request 35\n",
            "Starting request 40\n",
            "Starting request 45\n",
            "Starting final request!\n",
            "Total Time: 32.38\n",
            "Jaccard Score: 0.97667\n"
          ]
        }
      ]
    },
    {
      "cell_type": "markdown",
      "source": [
        "## Turbo LoRA"
      ],
      "metadata": {
        "id": "DCFik6NHUKun"
      }
    },
    {
      "cell_type": "markdown",
      "source": [
        "Turbo LoRA is a proprietary fine-tuning method that combines LoRA for quality and speculative decoding for speed, achieving up to 4x faster inference throughput.\n",
        "\n",
        "The below shows Turbo LoRA can boost model performance while maintaining model quality."
      ],
      "metadata": {
        "id": "UTgOjh-TP3tw"
      }
    },
    {
      "cell_type": "code",
      "source": [
        "adapter_id = \"conllpp-demo/5\"\n",
        "\n",
        "# Warmup Query For Turbo LoRA - Downloads Weights\n",
        "client.generate(df_sample.iloc[0]['prompt'], adapter_id=adapter_id, max_new_tokens=128, temperature=1).generated_text\n",
        "\n",
        "# Run inference over dataset sample\n",
        "generated_completions_turbo_lora, total_time_turbo_lora = benchmark_inference(df_sample, client, adapter_id=adapter_id)\n",
        "\n",
        "# Generate Scores\n",
        "jaccard_score_turbo_lora = multiset_jaccard_similarity(generated_completions_turbo_lora, df_sample['completion'].tolist())\n",
        "\n",
        "# Log Time Taken and Score\n",
        "print(f\"Total Time: {total_time_turbo_lora:.2f}\")\n",
        "print(f\"Jaccard Score: {jaccard_score_turbo_lora:.5f}\")"
      ],
      "metadata": {
        "colab": {
          "base_uri": "https://localhost:8080/"
        },
        "id": "RWHkl2pdQyxR",
        "outputId": "6cd9f9c1-fadb-4e5d-cab1-fad7facda0fc"
      },
      "execution_count": null,
      "outputs": [
        {
          "output_type": "stream",
          "name": "stdout",
          "text": [
            "Starting request 0\n",
            "Starting request 5\n",
            "Starting request 10\n",
            "Starting request 15\n",
            "Starting request 20\n",
            "Starting request 25\n",
            "Starting request 30\n",
            "Starting request 35\n",
            "Starting request 40\n",
            "Starting request 45\n",
            "Starting final request!\n",
            "Total Time: 17.49\n",
            "Jaccard Score: 0.97667\n"
          ]
        }
      ]
    },
    {
      "cell_type": "markdown",
      "source": [
        "## Visualize Results"
      ],
      "metadata": {
        "id": "WIOdxQvBUsKM"
      }
    },
    {
      "cell_type": "code",
      "source": [
        "scores = [jaccard_score_lora, jaccard_score_turbo_lora]\n",
        "times = [total_time_lora, total_time_turbo_lora]\n",
        "models = ['LoRA', 'Turbo LoRA']\n",
        "\n",
        "create_viz(models, scores, times)"
      ],
      "metadata": {
        "colab": {
          "base_uri": "https://localhost:8080/",
          "height": 408
        },
        "id": "Hj7R3PweKorZ",
        "outputId": "4b9f8803-118e-462e-dc50-8c4fa06f1fac",
        "collapsed": true
      },
      "execution_count": null,
      "outputs": [
        {
          "output_type": "display_data",
          "data": {
            "text/plain": [
              "<Figure size 1200x500 with 2 Axes>"
            ],
            "image/png": "[encoded data removed]"
          },
          "metadata": {}
        }
      ]
    },
    {
      "cell_type": "markdown",
      "source": [
        "## Turbo LoRA + FP8"
      ],
      "metadata": {
        "id": "0wmcNuh0VVXP"
      }
    },
    {
      "cell_type": "markdown",
      "source": [
        "Implementing FP8 quantization can reduce the memory footprint of deploying a fine-tuned SLM by 50%, leading to nearly 2x further improvements in throughput. This optimization not only improves performance but also enhances the cost-efficiency of deployments, allowing for up to 2x more simultaneous requests on the same number of GPUs."
      ],
      "metadata": {
        "id": "xIzlnkXAQSFs"
      }
    },
    {
      "cell_type": "code",
      "source": [
        "# Grab deployment\n",
        "client = pb.deployments.client(\"llama-3-1-8b-instruct-l40s-fp8\", force_bare_client=True)\n",
        "\n",
        "# Warmup Deployment\n",
        "_ = client.generate(df_sample.iloc[0]['prompt'], max_new_tokens=128, temperature=1)"
      ],
      "metadata": {
        "id": "z-nSpE7XKooK"
      },
      "execution_count": null,
      "outputs": []
    },
    {
      "cell_type": "code",
      "source": [
        "adapter_id = \"conllpp-demo/5\"\n",
        "\n",
        "# Warmup Query For Turbo LoRA - Downloads Weights\n",
        "client.generate(df_sample.iloc[0]['prompt'], adapter_id=adapter_id, max_new_tokens=128, temperature=1).generated_text\n",
        "\n",
        "# Run inference over dataset sample\n",
        "generated_completions_turbo_lora_fp8, total_time_turbo_lora_fp8 = benchmark_inference(df_sample, client, adapter_id=adapter_id)\n",
        "\n",
        "# Generate Scores\n",
        "jaccard_score_turbo_lora_fp8 = multiset_jaccard_similarity(generated_completions_turbo_lora_fp8, df_sample['completion'].tolist())\n",
        "\n",
        "# Log Time Taken and Score\n",
        "print(f\"Total Time: {total_time_turbo_lora_fp8:.2f}\")\n",
        "print(f\"Jaccard Score: {jaccard_score_turbo_lora_fp8:.5f}\")"
      ],
      "metadata": {
        "colab": {
          "base_uri": "https://localhost:8080/"
        },
        "id": "uJpCnwUrKolq",
        "outputId": "69fad397-3a9d-4231-fb11-9bcb0b92746e",
        "collapsed": true
      },
      "execution_count": null,
      "outputs": [
        {
          "output_type": "stream",
          "name": "stdout",
          "text": [
            "Starting request 0\n",
            "Starting request 5\n",
            "Starting request 10\n",
            "Starting request 15\n",
            "Starting request 20\n",
            "Starting request 25\n",
            "Starting request 30\n",
            "Starting request 35\n",
            "Starting request 40\n",
            "Starting request 45\n",
            "Starting final request!\n",
            "Total Time: 13.68\n",
            "Jaccard Score: 0.97667\n"
          ]
        }
      ]
    },
    {
      "cell_type": "code",
      "source": [
        "scores.append(jaccard_score_turbo_lora_fp8)\n",
        "times.append(total_time_turbo_lora_fp8)\n",
        "models.append('Turbo LoRA + FP8')\n",
        "\n",
        "create_viz(models, scores, times)"
      ],
      "metadata": {
        "colab": {
          "base_uri": "https://localhost:8080/",
          "height": 407
        },
        "id": "sLoSHTd_TUOn",
        "outputId": "eabd77c8-d12e-4273-9c81-ec4d8968abbc"
      },
      "execution_count": null,
      "outputs": [
        {
          "output_type": "display_data",
          "data": {
            "text/plain": [
              "<Figure size 1200x500 with 2 Axes>"
            ],
            "image/png": "[encoded data removed]"
          },
          "metadata": {}
        }
      ]
    },
    {
      "cell_type": "code",
      "source": [
        "print(f\"Overall Speedup With Turbo LoRA: {times[0]/times[1]:.2f}x\")\n",
        "print(f\"Overall Speedup With Turbo LoRA + FP8: {times[0]/times[2]:.2f}x\")\n",
        "print(f\"Overall Change In Score: +{scores[2]-scores[0]:.5f}\")"
      ],
      "metadata": {
        "colab": {
          "base_uri": "https://localhost:8080/"
        },
        "id": "Ms7ObVM9TUMQ",
        "outputId": "c79d8fd2-3813-4734-d498-c4e57a45ed73"
      },
      "execution_count": null,
      "outputs": [
        {
          "output_type": "stream",
          "name": "stdout",
          "text": [
            "Overall Speedup With Turbo LoRA: 1.85x\n",
            "Overall Speedup With Turbo LoRA + FP8: 2.37x\n",
            "Overall Change In Score: +0.00000\n"
          ]
        }
      ]
    }
  ]
}